{
 "cells": [
  {
   "cell_type": "markdown",
   "metadata": {},
   "source": [
    "# Лабораторная работа 6"
   ]
  },
  {
   "cell_type": "markdown",
   "metadata": {},
   "source": [
    "**Внимание!** Данную лабораторную нужно выполнять на **Python 3.6+**."
   ]
  },
  {
   "cell_type": "markdown",
   "metadata": {},
   "source": [
    "## 1. Работа с метаклассами"
   ]
  },
  {
   "cell_type": "markdown",
   "metadata": {},
   "source": [
    "### Задание 1.1 (0.6 балла)"
   ]
  },
  {
   "cell_type": "markdown",
   "metadata": {},
   "source": [
    "Реализуйте метакласс **BoundedMeta**, который контролирует количество созданных объектов классов, которые имеют данный метакласс. Допустимое количество объектов задайте параметром (по умолчанию 1).\n",
    "\n",
    "В случае превышения бросайте исключение **TypeError**. Eсли значение параметра - **None**, то ограничений нету.\n",
    "\n",
    "Другими словами, у класса **C** с метаклассом **BoundedMeta** должно быть создано не более 2 экземпляров. "
   ]
  },
  {
   "cell_type": "code",
   "execution_count": 1,
   "metadata": {},
   "outputs": [
    {
     "name": "stdout",
     "output_type": "stream",
     "text": [
      "everything works fine!\n",
      "everything works fine!\n"
     ]
    }
   ],
   "source": [
    "class BoundedMeta(type): \n",
    "    def __new__(mcs, name, bases, attrs, max_instance_count=1):\n",
    "        return super().__new__(mcs, name, bases, attrs)\n",
    "    \n",
    "    def __init__(cls, name, bases, attrs, max_instance_count=1):\n",
    "        cls.__instance_count = 0\n",
    "        cls.__max_instance_count = max_instance_count\n",
    "        return super().__init__(name, bases, attrs)\n",
    "    \n",
    "    def __call__(cls):\n",
    "        if cls.__max_instance_count is None or cls.__instance_count < cls.__max_instance_count:\n",
    "            cls.__instance_count += 1\n",
    "            return super().__call__()\n",
    "        \n",
    "        raise TypeError()\n",
    "\n",
    "\n",
    "class C(metaclass=BoundedMeta, max_instance_count=2):\n",
    "    pass\n",
    "\n",
    "class F(metaclass=BoundedMeta, max_instance_count=1):\n",
    "    pass\n",
    "\n",
    "c1 = C()\n",
    "c2 = C()\n",
    "\n",
    "try:\n",
    "    c3 = C()\n",
    "except TypeError:\n",
    "    print('everything works fine!')\n",
    "else:\n",
    "    print('something goes wrong!')\n",
    "\n",
    "f1 = F()\n",
    "\n",
    "try:\n",
    "    f2 = F()\n",
    "except TypeError:\n",
    "    print('everything works fine!')\n",
    "else:\n",
    "    print('something goes wrong!')"
   ]
  },
  {
   "cell_type": "markdown",
   "metadata": {},
   "source": [
    "### Задание 1.2 (0.6 балла)"
   ]
  },
  {
   "cell_type": "markdown",
   "metadata": {},
   "source": [
    "Реализуйте класс **BoundedBase**, в котором определен абстрактный classmethod get_max_instance_count, возвращающий максимальное количество экзмепляров, которые можно создать.\n",
    "\n",
    "Не допускайте ***создания*** объекта, если данное значение превышено - бросайте исключение **TypeError**. Значение, равное **None** - без ограничений."
   ]
  },
  {
   "cell_type": "code",
   "execution_count": 2,
   "metadata": {},
   "outputs": [
    {
     "name": "stdout",
     "output_type": "stream",
     "text": [
      "everything works fine!\n",
      "everything works fine!\n"
     ]
    }
   ],
   "source": [
    "from abc import ABCMeta, abstractclassmethod\n",
    "\n",
    "\n",
    "class BoundedBase:\n",
    "    __metaclass__ = ABCMeta\n",
    "    __instance_count = 0\n",
    "    \n",
    "    def __new__(cls):\n",
    "        cls.__instance_count += 1\n",
    "        \n",
    "        if cls.__instance_count > cls.get_max_instance_count():\n",
    "            raise TypeError()\n",
    "        \n",
    "        return super().__new__(cls)\n",
    "    \n",
    "    @abstractclassmethod\n",
    "    def get_max_instance_count(cls):\n",
    "        pass\n",
    "    \n",
    "\n",
    "\n",
    "class D(BoundedBase):\n",
    "    @classmethod\n",
    "    def get_max_instance_count(cls):\n",
    "        return 1\n",
    "\n",
    "class E(BoundedBase):\n",
    "    @classmethod\n",
    "    def get_max_instance_count(cls):\n",
    "        return 2\n",
    "    \n",
    "d1 = D()\n",
    "\n",
    "try:\n",
    "    d2 = D()\n",
    "except TypeError:\n",
    "    print('everything works fine!')\n",
    "else:\n",
    "    print('something goes wrong!')\n",
    "\n",
    "e1 = E()\n",
    "e2 = E()\n",
    "\n",
    "try:\n",
    "    e3 = E()\n",
    "except TypeError:\n",
    "    print('everything works fine!')\n",
    "else:\n",
    "    print('something goes wrong!')"
   ]
  },
  {
   "cell_type": "markdown",
   "metadata": {},
   "source": [
    "## 2. Работа с NumPy и SciPy"
   ]
  },
  {
   "cell_type": "markdown",
   "metadata": {},
   "source": [
    "В области машинного обучения одним из самых популярных методов бинарной классификации (предсказываем один из двух классов, $+1$ или $-1$ для каждого объекта) является логистическая регрессия. Она выводится из метода максимального правдоподобия, который приводит к следующей задаче оптимизации:\n",
    "\n",
    "$$ L(w, X, y) = \\frac1{N}\\sum_{i = 0}^{N} log (1 + exp(-y_ix_i^Tw)) + \\frac{C}{2} ||w||^2 \\longrightarrow \\min_w$$\n",
    "$$X \\in R^{N \\times M}, x \\in R^{M}, w \\in R^{M}, y \\in \\{-1, 1\\}^N$$\n",
    "\n",
    "Здесь $X$ - матрица объекты-признаки для обучающей выборки (по строкам объекты, по столбцам признаки), а $y$ - вектор ответов. Коэффициент $C$, вообще говоря, нужно подбирать отдельно, поскольку разные его значения приводят к разным решениям задачи оптимизации. Но в этой задаче положим $\\mathbf{C = 10^{-3}}$\n",
    "\n",
    "Когда мы решили задачу оптимизации (нашли $w$), мы принимаем решение о том, к какому классу относится объект по правилу $y(x) = sign(x^Tw)$."
   ]
  },
  {
   "cell_type": "code",
   "execution_count": 3,
   "metadata": {
    "collapsed": true
   },
   "outputs": [],
   "source": [
    "import numpy as np\n",
    "from scipy import special\n",
    "import matplotlib.pyplot as plt\n",
    "import seaborn\n",
    "\n",
    "%matplotlib inline"
   ]
  },
  {
   "cell_type": "markdown",
   "metadata": {},
   "source": [
    "Для тестирования правильности вычисления сгенерируем аргументы небольшого размера"
   ]
  },
  {
   "cell_type": "code",
   "execution_count": 4,
   "metadata": {
    "collapsed": true
   },
   "outputs": [],
   "source": [
    "sample_size, features_count = 25, 10\n",
    "C = 0.001\n",
    "w = np.random.random(features_count)\n",
    "X, y = np.random.random((sample_size, features_count)), 2 * (np.random.randint(0, 2, sample_size) - 0.5)"
   ]
  },
  {
   "cell_type": "markdown",
   "metadata": {},
   "source": [
    "### Задание 2.1 (0.2 балла)"
   ]
  },
  {
   "cell_type": "code",
   "execution_count": 5,
   "metadata": {
    "collapsed": true
   },
   "outputs": [],
   "source": [
    "XY = np.hstack((X, y[:, np.newaxis]))\n",
    "del X, y"
   ]
  },
  {
   "cell_type": "markdown",
   "metadata": {},
   "source": [
    "Немного поработаем с ndarray. Получите из массива XY обратно X и y."
   ]
  },
  {
   "cell_type": "code",
   "execution_count": 6,
   "metadata": {},
   "outputs": [],
   "source": [
    "X, y = XY[:, :-1], XY[:, -1]"
   ]
  },
  {
   "cell_type": "markdown",
   "metadata": {},
   "source": [
    "### Задание 2.2 (0.2 балла)"
   ]
  },
  {
   "cell_type": "markdown",
   "metadata": {},
   "source": [
    "Запрограммируйте вычисление функции L, используйте только матричные операции (внутри не должно быть циклов).\n",
    "\n",
    "**Замечание**: Нигде в промежуточных вычислениях не стоит вычислять значение $\\exp(−y_ix^Tw)$, иначе может произойти переполнение. Вместо этого следует напрямую вычислять необходимые величины с помощью специализированных для этого функций: `np.logaddexp` для `ln(1 + exp(·))` и `sp.special.expit` для `1/(1 + exp(-(·)))`."
   ]
  },
  {
   "cell_type": "code",
   "execution_count": 7,
   "metadata": {
    "collapsed": true
   },
   "outputs": [],
   "source": [
    "def logistic(w, X, y):\n",
    "    \"\"\"\n",
    "        logistic(w, X, y) вычисляет функцию качества лог регрессии L(w, X, y)\n",
    "        \n",
    "        w: np.array размера (M,)\n",
    "        X: np.array размера (N, M)\n",
    "        y: np.array размера (M,)\n",
    "        \n",
    "        funcw: np.float \n",
    "    \"\"\"\n",
    "    return np.average(np.logaddexp(0, -y * np.dot(X, w))) + np.sum(w * w) * C / 2"
   ]
  },
  {
   "cell_type": "markdown",
   "metadata": {},
   "source": [
    "### Задание 2.3.1 (0.3 балла)"
   ]
  },
  {
   "cell_type": "markdown",
   "metadata": {},
   "source": [
    "Найдите градиент функции $\\nabla_w L(w, X, y)$, запишите в терминах матричных операций.\n",
    "\n",
    "Эффективно запрограммируйте вычисление градиента (опять же, только матричные операции!)"
   ]
  },
  {
   "cell_type": "code",
   "execution_count": 8,
   "metadata": {
    "collapsed": true
   },
   "outputs": [],
   "source": [
    "def logistic_grad(w, X, y):\n",
    "    \"\"\"\n",
    "        logistic_grad(w, X, y) вычисляет градиент функции качества лог регрессии dL(w, X, y)/dw\n",
    "        \n",
    "        w: np.array размера (M,)\n",
    "        X: np.array размера (N, M)\n",
    "        y: np.array размера (M,)\n",
    "        \n",
    "        gradw: np.array размера (M,)\n",
    "    \"\"\"\n",
    "    n, d = X.shape\n",
    "    return -np.dot(X.T, y * (1.0 - special.expit(y * np.dot(X, w)))) / n + w * C"
   ]
  },
  {
   "cell_type": "code",
   "execution_count": 9,
   "metadata": {},
   "outputs": [],
   "source": [
    "assert(logistic_grad(w, X, y).shape == w.shape)"
   ]
  },
  {
   "cell_type": "code",
   "execution_count": 10,
   "metadata": {},
   "outputs": [
    {
     "name": "stdout",
     "output_type": "stream",
     "text": [
      "Iter: 0, Loss: 1.026370, Loss delta: 0.000221\n",
      "Iter: 100, Loss: 1.004657, Loss delta: 0.000213\n",
      "Iter: 200, Loss: 0.983720, Loss delta: 0.000205\n",
      "Iter: 300, Loss: 0.963576, Loss delta: 0.000197\n",
      "Iter: 400, Loss: 0.944236, Loss delta: 0.000189\n",
      "Iter: 500, Loss: 0.925710, Loss delta: 0.000181\n",
      "Iter: 600, Loss: 0.908005, Loss delta: 0.000173\n",
      "Iter: 700, Loss: 0.891122, Loss delta: 0.000165\n",
      "Iter: 800, Loss: 0.875061, Loss delta: 0.000156\n",
      "Iter: 900, Loss: 0.859816, Loss delta: 0.000148\n",
      "Iter: 1000, Loss: 0.845380, Loss delta: 0.000140\n",
      "Iter: 1100, Loss: 0.831741, Loss delta: 0.000132\n",
      "Iter: 1200, Loss: 0.818883, Loss delta: 0.000125\n",
      "Iter: 1300, Loss: 0.806789, Loss delta: 0.000117\n",
      "Iter: 1400, Loss: 0.795437, Loss delta: 0.000110\n",
      "Iter: 1500, Loss: 0.784805, Loss delta: 0.000103\n"
     ]
    }
   ],
   "source": [
    "def fit(w, X, y, lr, eps=10e-5, log_show=True):    \n",
    "    i, delta_loss = 0, np.inf\n",
    "    history = []\n",
    "    while delta_loss >= eps:\n",
    "        before_loss = logistic(w, X, y) \n",
    "        w = w - lr * logistic_grad(w, X, y)\n",
    "        after_loss = logistic(w, X, y)\n",
    "        delta_loss = np.abs(after_loss - before_loss)\n",
    "        \n",
    "        history.append(before_loss)\n",
    "        if log_show and i % 100 == 0:\n",
    "            print(\"Iter: %d, Loss: %f, Loss delta: %f\" % (i, before_loss, delta_loss))\n",
    "        \n",
    "        i += 1\n",
    "    \n",
    "    return w, history\n",
    "\n",
    "weights, history = fit(w, X, y, 0.001)"
   ]
  },
  {
   "cell_type": "code",
   "execution_count": 11,
   "metadata": {},
   "outputs": [
    {
     "data": {
      "text/plain": [
       "[<matplotlib.lines.Line2D at 0x7f55d71fa048>]"
      ]
     },
     "execution_count": 11,
     "metadata": {},
     "output_type": "execute_result"
    },
    {
     "data": {
      "image/png": "[encoded data removed]",
      "text/plain": [
       "<matplotlib.figure.Figure at 0x7f55df08d390>"
      ]
     },
     "metadata": {},
     "output_type": "display_data"
    }
   ],
   "source": [
    "plt.figure(figsize=(10, 10))\n",
    "plt.title(\"Loss\")\n",
    "plt.xlabel(\"iter\")\n",
    "plt.ylabel(\"loss\")\n",
    "plt.plot(history)"
   ]
  },
  {
   "cell_type": "markdown",
   "metadata": {},
   "source": [
    "### Задание 2.3.2 (0.3 балла)"
   ]
  },
  {
   "cell_type": "markdown",
   "metadata": {},
   "source": [
    "Очень часто при подсчёте градиента допускаются ошибки, проверьте правильность реализации подсчёта градиента с помощью конечных разностей. \n",
    "\n",
    "$$[\\nabla f(x)]_i \\approx \\frac{f(x + \\varepsilon \\cdot e_i) - f(x)}{\\varepsilon}~~~~$$\n",
    "\n",
    "где $e_i = (0, ... , 0, 1, 0, ..., 0)$ - i-й базисный орт, $\\epsilon \\approx 10^{-8}$"
   ]
  },
  {
   "cell_type": "code",
   "execution_count": 12,
   "metadata": {},
   "outputs": [],
   "source": [
    "def max_error(a, b): \n",
    "    return np.max(np.abs(a - b))\n",
    "\n",
    "\n",
    "def grad_finite_diff(func, w, eps=10e-8):\n",
    "    \"\"\"\n",
    "        w: np.array размера (M,)\n",
    "        func: скалярная функция от векторного аргумента w, func(w) =  число\n",
    "        eps: np.float константа для проверки градиента\n",
    "        \n",
    "        dnum: np.array размера (M,), численно посчитанный градиент\n",
    "    \"\"\"\n",
    "    d, = w.shape\n",
    "    e = np.eye(d)\n",
    "    return np.apply_along_axis(lambda _: (func(w + _ * eps) - func(w)) / eps, 1, e)"
   ]
  },
  {
   "cell_type": "code",
   "execution_count": 13,
   "metadata": {},
   "outputs": [
    {
     "name": "stdout",
     "output_type": "stream",
     "text": [
      "err =  2.55194498866e-09 ok\n"
     ]
    }
   ],
   "source": [
    "mat_grad = logistic_grad(w, X, y)\n",
    "num_grad = grad_finite_diff(lambda w: logistic(w, X, y), w)\n",
    "\n",
    "err = max_error(mat_grad, num_grad)\n",
    "print('err = ', err, 'ok' if err < 1e-6 else 'ошибка очень большая!')"
   ]
  },
  {
   "cell_type": "markdown",
   "metadata": {},
   "source": [
    "### Задание 2.4.1 (0.4 балла)"
   ]
  },
  {
   "cell_type": "markdown",
   "metadata": {},
   "source": [
    "Для некоторых задач оптимизации очень удобно использовать гессиан.\n",
    "\n",
    "Вычислите гессиан для функции L, запишите ответ в терминах матричных операций. Эффективно запрограммируйте вычисление гессиана."
   ]
  },
  {
   "cell_type": "code",
   "execution_count": 23,
   "metadata": {
    "collapsed": true
   },
   "outputs": [],
   "source": [
    "def logistic_hess(w, X, y):\n",
    "    \"\"\"\n",
    "        logistic_hess(w, X, y) вычисляет гессиан функции качества лог регрессии dL(w, X, y)/dw\n",
    "        \n",
    "        w: np.array размера (M,)\n",
    "        X: np.array размера (N, M)\n",
    "        y: np.array размера (M,)\n",
    "        \n",
    "        hessw: np.array размера (M, M)\n",
    "    \"\"\"\n",
    "    n, d = X.shape\n",
    "    return -np.dot(X.T, y * (np.dot((1.0 - special.expit(y * np.dot(X, w))), special.expit(y * np.dot(X, w))))) / n + C"
   ]
  },
  {
   "cell_type": "code",
   "execution_count": 15,
   "metadata": {},
   "outputs": [
    {
     "ename": "AssertionError",
     "evalue": "",
     "output_type": "error",
     "traceback": [
      "\u001b[0;31m---------------------------------------------------------------------------\u001b[0m",
      "\u001b[0;31mAssertionError\u001b[0m                            Traceback (most recent call last)",
      "\u001b[0;32m<ipython-input-15-64b2ad58efda>\u001b[0m in \u001b[0;36m<module>\u001b[0;34m()\u001b[0m\n\u001b[0;32m----> 1\u001b[0;31m \u001b[0;32massert\u001b[0m\u001b[0;34m(\u001b[0m\u001b[0mlogistic_hess\u001b[0m\u001b[0;34m(\u001b[0m\u001b[0mw\u001b[0m\u001b[0;34m,\u001b[0m \u001b[0mX\u001b[0m\u001b[0;34m,\u001b[0m \u001b[0my\u001b[0m\u001b[0;34m)\u001b[0m\u001b[0;34m.\u001b[0m\u001b[0mshape\u001b[0m \u001b[0;34m==\u001b[0m \u001b[0;34m(\u001b[0m\u001b[0mw\u001b[0m\u001b[0;34m.\u001b[0m\u001b[0mshape\u001b[0m\u001b[0;34m[\u001b[0m\u001b[0;36m0\u001b[0m\u001b[0;34m]\u001b[0m\u001b[0;34m,\u001b[0m \u001b[0mw\u001b[0m\u001b[0;34m.\u001b[0m\u001b[0mshape\u001b[0m\u001b[0;34m[\u001b[0m\u001b[0;36m0\u001b[0m\u001b[0;34m]\u001b[0m\u001b[0;34m)\u001b[0m\u001b[0;34m)\u001b[0m\u001b[0;34m\u001b[0m\u001b[0m\n\u001b[0m",
      "\u001b[0;31mAssertionError\u001b[0m: "
     ]
    }
   ],
   "source": [
    "assert(logistic_hess(w, X, y).shape == (w.shape[0], w.shape[0]))"
   ]
  },
  {
   "cell_type": "markdown",
   "metadata": {},
   "source": [
    "### Задание 2.4.2 (0.4 балла)"
   ]
  },
  {
   "cell_type": "markdown",
   "metadata": {},
   "source": [
    "Теперь проверим правильность реализации подсчёта гессиана.\n",
    "\n",
    "Для гессиана проверка выглядит похожим образом\n",
    "\n",
    "$$[\\nabla^2 f(x)]_{ij} \\approx \\frac{f(x + \\varepsilon \\cdot e_i + \\varepsilon \\cdot e_j) -f(x + \\varepsilon \\cdot e_i) - f(x + \\varepsilon \\cdot e_j)+ f(x)}{\\varepsilon^2}~~~~~~~~~~~~~~~~~~~~~$$\n",
    "\n",
    "где $e_i = (0, ... , 0, 1, 0, ..., 0)$ - i-й базисный орт, $\\varepsilon \\approx 10^{-4}$"
   ]
  },
  {
   "cell_type": "code",
   "execution_count": null,
   "metadata": {
    "collapsed": true
   },
   "outputs": [],
   "source": [
    "def hess_finite_diff(func, w, eps=1e-4):\n",
    "    '''\n",
    "        w: np.array размера (M,)\n",
    "        func: скалярная функция от векторного аргумента w, func(w) =  число\n",
    "        eps: np.float константа для проверки градиента\n",
    "        \n",
    "        dnum: np.array размера (M,), численно посчитанный градиент\n",
    "    '''\n",
    "    w, fval, dnum = w.astype(np.float64), func(w).astype(np.float64), np.zeros((w.size, w.size), dtype=np.float64)\n",
    "    #dnum = # Вычислите численный гессиан d func/dw_iw_j для всех i, j\n",
    "    # YOUR CODE HERE\n",
    "    raise NotImplementedError()"
   ]
  },
  {
   "cell_type": "code",
   "execution_count": null,
   "metadata": {
    "collapsed": true
   },
   "outputs": [],
   "source": [
    "mat_grad = logistic_hess(w, X, y)\n",
    "num_grad = hess_finite_diff(lambda w: logistic(w, X, y), w)\n",
    "\n",
    "err = max_error(mat_grad, num_grad)\n",
    "\n",
    "print('err = ', err)\n",
    "print('ok' if max_error(mat_grad, num_grad) < 1e-4 else 'ошибка очень большая!')"
   ]
  }
 ],
 "metadata": {
  "kernelspec": {
   "display_name": "Python 3",
   "language": "python",
   "name": "python3"
  },
  "language_info": {
   "codemirror_mode": {
    "name": "ipython",
    "version": 3
   },
   "file_extension": ".py",
   "mimetype": "text/x-python",
   "name": "python",
   "nbconvert_exporter": "python",
   "pygments_lexer": "ipython3",
   "version": "3.6.3"
  }
 },
 "nbformat": 4,
 "nbformat_minor": 2
}
